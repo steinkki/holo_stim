{
 "cells": [
  {
   "cell_type": "markdown",
   "id": "b5fcab02-b69b-4a5b-84fd-ac48f90052cd",
   "metadata": {},
   "source": [
    "# Mesmerize -- Holographic stimulation\n",
    "### Adapted from Kushal lab \"Mesmerize-core\"\n",
    "#### Updated March 16, 2023 - K.steinke\n"
   ]
  },
  {
   "cell_type": "markdown",
   "id": "02e0fbcd-aa7e-42ae-b367-4e9d1827f233",
   "metadata": {},
   "source": [
    "## Activate the virtual envirnoment for mesmerize-core.\n",
    "### For instructions on how to set this up, see: https://github.com/EricThomson/CCN_caiman_mesmerize_workshop_2023\n",
    "\n",
    "n/\n",
    "n/"
   ]
  },
  {
   "cell_type": "markdown",
   "id": "3002dc9d-487a-442f-8b2d-ba28ce93227d",
   "metadata": {},
   "source": [
    "## Notebook set up"
   ]
  },
  {
   "cell_type": "code",
   "execution_count": null,
   "id": "2c6bfbf6-12d6-4fd7-96ed-c79cda82b6a0",
   "metadata": {},
   "outputs": [],
   "source": [
    "# libraries to load:\n",
    "from mesmerize_core import *\n",
    "import numpy as np\n",
    "from copy import deepcopy\n",
    "import pandas as pd\n",
    "\n",
    "from fastplotlib import ImageWidget   #This is important for the visualization\n",
    "from ipywidgets import VBox, IntSlider, Layout\n",
    "\n",
    "pd.options.display.max_colwidth = 120   # some display options"
   ]
  },
  {
   "cell_type": "markdown",
   "id": "58f8fc50-b102-4770-b84d-3251149d9689",
   "metadata": {},
   "source": [
    "## Set the paths"
   ]
  },
  {
   "cell_type": "code",
   "execution_count": null,
   "id": "c9d421e0-df0c-4635-8dcb-e39fae8b07e5",
   "metadata": {},
   "outputs": [],
   "source": [
    "#it is important that you set the parent path. It needs to coorespond with the caiman_data folder.\n",
    "\n",
    "set_parent_raw_data_path(\"/home/steinkki/caiman_data/\")  #top level raw data directory\n",
    "\n",
    "batch_path = get_parent_raw_data_path().joinpath(\"mesmerize-batch/batch.pickle\")  #this is where the caiman outputs will be organized\n",
    "\n",
    "movie_path = get_parent_raw_data_path().joinpath(\"example_movies/Sue_2x_3000_40_-46.tif\") #this is the movie to analyze\n",
    "#An input movie must be anywhere within raw data path or batch path!"
   ]
  },
  {
   "cell_type": "markdown",
   "id": "c40790bc-73a2-4943-a683-b104843b0ced",
   "metadata": {},
   "source": [
    "## Create a new batch"
   ]
  },
  {
   "cell_type": "code",
   "execution_count": null,
   "id": "6f00201c-6cd6-4a77-bc90-63f5b009b46f",
   "metadata": {},
   "outputs": [],
   "source": [
    "# This creates a new pandas DataFrame with the columns that are necessary for mesmerize. \n",
    "# In mesmerize this is called the batch DataFrame. \n",
    "# You can add additional columns relevant to your experiment, but do not modify columns used by mesmerize.\n",
    "\n",
    "# create a new batch\n",
    "df = create_batch(batch_path)\n",
    "\n",
    "\n",
    "# to load existing batches use `load_batch()`\n",
    "# df = load_batch(batch_path)"
   ]
  },
  {
   "cell_type": "markdown",
   "id": "f76e9a6c-e52c-4582-bdaf-73b8f9ceffa8",
   "metadata": {},
   "source": [
    "## Motion Correction Parameters"
   ]
  },
  {
   "cell_type": "code",
   "execution_count": null,
   "id": "09c5633f-b9b3-446f-8c93-3a615b76fd26",
   "metadata": {},
   "outputs": [],
   "source": [
    "\n",
    "'''\n",
    "# This is set up with only one set of parameters currently: \n",
    "\n",
    "mcorr_params1 =\\\n",
    "{\n",
    "  'main': # this key is necessary for specifying that these are the \"main\" params for the algorithm\n",
    "    {\n",
    "        'max_shifts': [24, 24],\n",
    "        'strides': [48, 48],\n",
    "        'overlaps': [24, 24],\n",
    "        'max_deviation_rigid': 3,\n",
    "        'border_nan': 'copy',\n",
    "        'pw_rigid': True,\n",
    "        'gSig_filt': None\n",
    "    },\n",
    "}\n",
    "\n",
    "# Another set of params, useful for gridsearches for example:\n",
    "mcorr_params2 =\\\n",
    "{\n",
    "  'main':\n",
    "    {\n",
    "        'max_shifts': [24, 24],\n",
    "        'strides': [24, 24],\n",
    "        'overlaps': [12, 12],\n",
    "        'max_deviation_rigid': 3,\n",
    "        'border_nan': 'copy',\n",
    "        'pw_rigid': True,\n",
    "        'gSig_filt': None\n",
    "    },\n",
    "}\n",
    "\n",
    "'''\n",
    "#Use for loop for looking at multiple parameters to decide which to use:\n",
    "\n",
    "# copy the mcorr_params2 dict to make some changes\n",
    "#new_params = deepcopy(mcorr_params2)\n",
    "\n",
    "new_params=\\\n",
    "{\n",
    "  'main':\n",
    "    {\n",
    "        'max_shifts': [24, 24],\n",
    "        'strides': [24, 24],\n",
    "        'overlaps': [12, 12],\n",
    "        'max_deviation_rigid': 3,\n",
    "        'border_nan': 'copy',\n",
    "        'pw_rigid': True,\n",
    "        'gSig_filt': None\n",
    "    },\n",
    "}\n",
    "\n"
   ]
  },
  {
   "cell_type": "markdown",
   "id": "512e9261-1725-4c2d-8b19-dc7ba1276fd8",
   "metadata": {},
   "source": [
    "## Add a Batch Item:\n",
    "\n",
    "This is a combination of:\n",
    "1. algorithm to run, algo\n",
    "2. input movie to run the algorithm on, input_movie_path\n",
    "3. parameters for the specified algorithm, params\n",
    "4. a name for you to keep track of things, usually the same as the movie filename, item_name"
   ]
  },
  {
   "cell_type": "code",
   "execution_count": null,
   "id": "74d474cd-64d5-4c22-ba32-b6eeaf738880",
   "metadata": {},
   "outputs": [],
   "source": [
    "'''\n",
    "#%% FROM THE DEMO: %%#\n",
    "\n",
    "# add an item to the batch\n",
    "df.caiman.add_item(\n",
    "    algo='mcorr',  #algorhythm to use\n",
    "    input_movie_path=movie_path,  #path to the movie to analyze\n",
    "    params=mcorr_params1,  #parameters to use\n",
    "    item_name=movie_path.stem,  # filename of the movie, but can be anything\n",
    ")\n",
    "\n",
    "df  #view the dataframe\n",
    "\n",
    "# add other param variant to the batch\n",
    "df.caiman.add_item(\n",
    "  algo='mcorr',\n",
    "  item_name=movie_path.stem,\n",
    "  input_movie_path=movie_path,\n",
    "  params=mcorr_params2\n",
    ")\n",
    "\n",
    "df\n",
    "'''\n",
    "#try a couple of different parameters since we don't know what to use:\n",
    "\n",
    "#use the for loop here to iterrate through a couple of different parameters.\n",
    "for shifts in [1, 6, 12]: # some variants of max_shifts\n",
    "    new_params = deepcopy(new_params)  #use deepcopy it is much safer\n",
    "    new_params[\"main\"][\"max_shifts\"] = (shifts, shifts) # assign the \"max_shifts\"\n",
    "    \n",
    "    df.caiman.add_item(\n",
    "      algo='mcorr',  #algorhythm to use\n",
    "      item_name=movie_path.stem, #set the item name\n",
    "      input_movie_path=movie_path, #give the path to the movie\n",
    "      params=new_params  #parameters to use\n",
    "    )\n",
    "\n",
    "df #view the data frame"
   ]
  },
  {
   "cell_type": "code",
   "execution_count": null,
   "id": "29a54a84-178c-4706-bbd2-3ae006497a34",
   "metadata": {},
   "outputs": [],
   "source": [
    "#look at the unique parameters for each batch:\n",
    "diffs = df.caiman.get_params_diffs(algo=\"mcorr\", item_name=df.iloc[0][\"item_name\"])\n",
    "diffs  #show the parameters\n",
    "\n",
    "#batches are indexable:\n",
    "row = df.iloc[0] # get the first batch item\n",
    "\n",
    "#to see the docstring, look at the documentation for how to do this:\n",
    "# https://mesmerize-core.readthedocs.io/en/latest/api/common.html#mesmerize_core.CaimanSeriesExtensions"
   ]
  },
  {
   "cell_type": "markdown",
   "id": "571d0a67-44bc-4271-8f12-cfa0d2d32f88",
   "metadata": {},
   "source": [
    "## Run batches"
   ]
  },
  {
   "cell_type": "code",
   "execution_count": null,
   "id": "353a91df-481f-4ba7-b871-d4a436a3d248",
   "metadata": {},
   "outputs": [],
   "source": [
    "'''\n",
    "#%% FROM THE DEMO: %%#\n",
    "\n",
    "# run the first \"batch item\" (will only run one).\n",
    "# this will run in a subprocess by default on Linux & Mac\n",
    "# on windows it will run locally\n",
    "process = row.caiman.run()\n",
    "\n",
    "# reload dataframe from disk when done\n",
    "df = df.caiman.reload_from_disk()\n",
    "\n",
    "'''\n",
    "#try a loop to go through all the batches:\n",
    "\n",
    "for i, row in df.iterrows():\n",
    "   # if not i > 0: # skip the first item since we've run it already\n",
    "   #     continue\n",
    "    process = row.caiman.run()\n",
    "    # on Windows you MUST reload the batch dataframe after every iteration because it uses the `local` backend.\n",
    "    # this is unnecessary on Linux & Mac\n",
    "    # \"DummyProcess\" is used for local backend so this is automatic\n",
    "    if process.__class__.__name__ == \"DummyProcess\":\n",
    "        df = df.caiman.reload_from_disk()\n",
    "        \n",
    "#loop worked\n",
    "\n",
    "df = df.caiman.reload_from_disk() #ALWAYS RELOAD after running a loop!! \n",
    "df #make sure the outputs column as been filled in to make sure that it worked for all\n",
    "\n",
    "\n",
    "#check to see if the algorhythm \n",
    "print(\"Did the algorhythm run successfully?\")\n",
    "df.iloc[0][\"outputs\"][\"success\"] # True if the algo ran succesfully"
   ]
  },
  {
   "cell_type": "markdown",
   "id": "fa393c91-6ad1-4ee2-807e-eed498816cc0",
   "metadata": {},
   "source": [
    "## Visualization with Fastplotlib"
   ]
  },
  {
   "cell_type": "code",
   "execution_count": null,
   "id": "66cdf425-8e7a-4299-b704-d5e89c9c5619",
   "metadata": {},
   "outputs": [],
   "source": [
    "# get the movie and mcorr so you can look at them\n",
    "# Note: tiff input files returns it as a memmaped array (if possible) with lazy loading\n",
    "# Note: will try to use a mesmerize LazyArray if the file cannot be memmaped\n",
    "\n",
    "index = 0  # you can change the index to look at the mcorr results of different batch items\n",
    "\n",
    "input_movie = df.iloc[index].caiman.get_input_movie()  # get input movie as memmap\n",
    "\n",
    "mcorr_movie = df.iloc[index].mcorr.get_output()  # load mcorr output movie, also as a memmaped array\n",
    "\n",
    "#Visualize the mcorr movie and raw movie side by side:\n",
    "mcorr_iw = ImageWidget(\n",
    "    data=[input_movie, mcorr_movie], #two movies defined from above\n",
    "    vmin_vmax_sliders=True, \n",
    "    cmap=\"gnuplot2\"\n",
    ")\n",
    "mcorr_iw.show()  #look at the two movies side by side\n",
    "\n",
    "#do frame averaging --> helps with visualling inspecting motion\n",
    "mcorr_iw.window_funcs = {\"t\": (np.mean, 17)}  # window function on the \"t\" (time) dimension, using mean of 17 frames"
   ]
  },
  {
   "cell_type": "code",
   "execution_count": null,
   "id": "34885ba6-5577-4d1d-8140-b53e11f66613",
   "metadata": {},
   "outputs": [],
   "source": [
    "mcorr_iw.plot.canvas.close()  #close the window to save processing power. "
   ]
  },
  {
   "cell_type": "code",
   "execution_count": null,
   "id": "9ce5042b-2eb9-426e-bcca-638d6f730fe3",
   "metadata": {},
   "outputs": [],
   "source": [
    "\n",
    "## With ImageWidget you can view all 5 mcorr results simultaneously! ##\n",
    "# Depends on the hard drive capabilities\n",
    "\n",
    "#-----------------------------------------------\n",
    "\n",
    "movies = [df.iloc[0].caiman.get_input_movie()]   # first item is just the raw movie\n",
    "subplot_names = [\"raw\"]   # subplot titles\n",
    "means = [df.iloc[0].caiman.get_projection(\"mean\")]  # we will use the mean images later\n",
    "\n",
    "# add all the mcorr outputs to the list\n",
    "for i, row in df.iterrows():\n",
    "    movies.append(row.mcorr.get_output())  # add to the list of movies to plot\n",
    "    subplot_names.append(f\"ix: {i}\")  # subplot title to show dataframe index\n",
    "    means.append(row.caiman.get_projection(\"mean\"))  # mean images which we'll use later\n",
    "\n",
    "# create the widget\n",
    "mcorr_iw_multiple = ImageWidget(\n",
    "    data=movies,  # list of movies\n",
    "    window_funcs={\"t\": (np.mean, 17)}, # window_funcs is also a kwarg\n",
    "    vmin_vmax_sliders=True,\n",
    "    names=subplot_names,  # subplot names used for titles\n",
    "    cmap=\"gnuplot2\"\n",
    ")\n",
    "\n",
    "#-----------------------------------------------\n",
    "\n",
    "mcorr_iw_multiple.show()\n",
    "\n",
    "#-----------------------------------------------\n",
    "\n",
    "# too look at the different parameters:\n",
    "df.caiman.get_params_diffs(algo=\"mcorr\", item_name=df.iloc[0][\"item_name\"])\n",
    "\n",
    "#-----------------------------------------------\n",
    "\n",
    "#if you want to modify the windows:\n",
    "#mcorr_iw_multiple.window_funcs[\"t\"].window_size = 5\n"
   ]
  },
  {
   "cell_type": "code",
   "execution_count": null,
   "id": "93f308c7-6ba0-4f05-ae08-d498e0176f4f",
   "metadata": {},
   "outputs": [],
   "source": [
    "# You can use frame apply to look for motion aberrations \n",
    "#first set up the code to subtract means from each movie:\n",
    "subtract_means = {\n",
    "    0: lambda x: x - means[0],\n",
    "    1: lambda x: x - means[1],\n",
    "    2: lambda x: x - means[2],\n",
    "    3: lambda x: x - means[3],\n",
    "    4: lambda x: x - means[4],\n",
    "    5: lambda x: x - means[5]\n",
    "}\n",
    "mcorr_iw_multiple.frame_apply = subtract_means #apply the function\n",
    "#Spits out 2D frame\n",
    "#-----------------------------------------------\n",
    "#Different colormaps can help with seeing the motion:\n",
    "for sp in mcorr_iw_multiple.plot:\n",
    "    sp.graphics[0].cmap = \"jet\""
   ]
  },
  {
   "cell_type": "code",
   "execution_count": null,
   "id": "1db731ec-ffdc-4b5c-8b11-86a3ab17d7f4",
   "metadata": {},
   "outputs": [],
   "source": [
    "#-----------------------------------------------\n",
    "#remove the frame_apply:\n",
    "mcorr_iw_multiple.frame_apply = dict()"
   ]
  },
  {
   "cell_type": "markdown",
   "id": "373dbbc9-1fef-42d4-9eba-9c7032b557de",
   "metadata": {},
   "source": [
    "## Dataframe clean up"
   ]
  },
  {
   "cell_type": "code",
   "execution_count": null,
   "id": "b0b863ea-c59e-46d6-8638-1b1d4acf0bca",
   "metadata": {},
   "outputs": [],
   "source": [
    "# make a list of rows we want to keep using the uuids\n",
    "rows_keep = [df.iloc[3].uuid]   #change to the index number that you want to keep\n",
    "rows_keep\n",
    "\n",
    "# You can remove batch items (i.e. rows) using df.caiman.remove_item(<item_uuid>)\n",
    "\n",
    "\n",
    "#WINDOWS NOTE: calling remove_item() will raise a PermissionError if you have the memmap file open.\n",
    "#WORK AROUND: Kill the kernel.\n",
    "\n",
    "#loop for removing all the rows that you do not want:\n",
    "for i, row in df.iterrows():\n",
    "    if row.uuid not in rows_keep:\n",
    "        df.caiman.remove_item(row.uuid)\n",
    "\n",
    "df"
   ]
  },
  {
   "cell_type": "markdown",
   "id": "3bf226de-4d30-468d-b8c1-fa24fc1cee3d",
   "metadata": {},
   "source": [
    "# CNMF"
   ]
  },
  {
   "cell_type": "code",
   "execution_count": null,
   "id": "c9b522ac-bd40-4020-aa41-f3347c725688",
   "metadata": {},
   "outputs": [],
   "source": [
    "# Enter parameters into main:\n",
    "\n",
    "params_cnmf =\\\n",
    "{\n",
    "    'main': # indicates that these are the \"main\" params for the CNMF algo\n",
    "        {\n",
    "            'fr': 30, # framerate, very important!\n",
    "            'p': 1,\n",
    "            'nb': 2,\n",
    "            'merge_thr': 0.85,\n",
    "            'rf': 15,\n",
    "            'stride': 6, # \"stride\" for cnmf, \"strides\" for mcorr\n",
    "            'K': 4,\n",
    "            'gSig': [4, 4],\n",
    "            'ssub': 1,\n",
    "            'tsub': 1,\n",
    "            'method_init': 'greedy_roi',\n",
    "            'min_SNR': 2.0,\n",
    "            'rval_thr': 0.7,\n",
    "            'use_cnn': True,\n",
    "            'min_cnn_thr': 0.8,\n",
    "            'cnn_lowest': 0.1,\n",
    "            'decay_time': 0.4,\n",
    "        },\n",
    "    'refit': True, # If `True`, run a second iteration of CNMF\n",
    "}\n",
    "\n",
    "\n",
    "# Add a batch item like before:\n",
    "df.caiman.add_item(\n",
    "    algo='cnmf', # algo is cnmf\n",
    "    input_movie_path=df.iloc[0],  # use mcorr output from a completed batch item (this is for one only!)\n",
    "    params=params_cnmf,   #parameters from above\n",
    "    item_name=df.iloc[0][\"item_name\"], # use the same item name\n",
    ")\n",
    "\n",
    "## perform a parameter search to find the parameters to use for the dataset! ##\n",
    "\n",
    "from itertools import product\n",
    "\n",
    "# variants of several parameters\n",
    "gSig_variants = [6, 8]\n",
    "K_variants = [4, 8]\n",
    "merge_thr_variants = [0.8, 0.95]\n",
    "\n",
    "new_params_cnmf = deepcopy(params_cnmf)  # always use deepcopy like before\n",
    "parameter_grid = product(gSig_variants, K_variants, merge_thr_variants)  # create a parameter grid\n",
    "\n",
    "# a single for loop to go through all the various parameter combinations\n",
    "for gSig, K, merge_thr in parameter_grid:\n",
    "    new_params_cnmf = deepcopy(new_params_cnmf)\n",
    "    \n",
    "    new_params_cnmf[\"main\"][\"gSig\"] = [gSig, gSig]\n",
    "    new_params_cnmf[\"main\"][\"K\"] = K\n",
    "    new_params_cnmf[\"main\"][\"merge_thr\"] = merge_thr\n",
    "    \n",
    "    # add param combination variant to batch\n",
    "    df.caiman.add_item(\n",
    "        algo=\"cnmf\",\n",
    "        item_name=df.iloc[0][\"item_name\"],\n",
    "        input_movie_path=df.iloc[0],\n",
    "        params=new_params_cnmf\n",
    "    )\n",
    "    \n",
    "    \n",
    "df  # if you want to view the generated batch items\n",
    "df.caiman.get_params_diffs(algo=\"cnmf\", item_name=df.iloc[1][\"item_name\"])   #just look at the unique diffs\n"
   ]
  },
  {
   "cell_type": "markdown",
   "id": "9e1859f4-9212-430a-9ded-e4198ea18e48",
   "metadata": {},
   "source": [
    "## Run the batch items through CNMF"
   ]
  },
  {
   "cell_type": "code",
   "execution_count": null,
   "id": "2b115073-4513-47a3-88ef-f7209dc0f1a1",
   "metadata": {},
   "outputs": [],
   "source": [
    "# if you want to filter the columns and rows\n",
    "df[\n",
    "    (df[\"algo\"] == \"cnmf\") &  # algo\n",
    "    (df[\"item_name\"] == df.iloc[0][\"item_name\"])  # item name\n",
    "]"
   ]
  },
  {
   "cell_type": "code",
   "execution_count": null,
   "id": "1d002b99-3595-418b-a3fa-92dbed410ef5",
   "metadata": {},
   "outputs": [],
   "source": [
    "# run only these items:\n",
    "\n",
    "for i, row in df[\n",
    "    (df[\"algo\"] == \"cnmf\") &\n",
    "    (df[\"item_name\"] == df.iloc[0][\"item_name\"])\n",
    "].iterrows():\n",
    "    \n",
    "    process = row.caiman.run()\n",
    "    \n",
    "    # on Windows you MUST reload the batch dataframe after every iteration because it uses the `local` backend.\n",
    "    # this is unnecessary on Linux & Mac\n",
    "    # \"DummyProcess\" is used for local backend so this is automatic\n",
    "    if process.__class__.__name__ == \"DummyProcess\":\n",
    "        df = load_batch(df.paths.get_batch_path())\n",
    "        \n",
    "#this made cnmf outputs:\n",
    "df = df.caiman.reload_from_disk()\n",
    "df[df[\"algo\"] == \"cnmf\"]\n",
    "\n",
    "# see which batch items completed succcessfully\n",
    "df[df[\"algo\"] == \"cnmf\"][\"outputs\"].apply(lambda x: x[\"success\"])"
   ]
  },
  {
   "cell_type": "markdown",
   "id": "d5364257-99d8-4f7c-820a-9febecc5eca6",
   "metadata": {},
   "source": [
    "# CNMF Visualization\n",
    "\n",
    "## WARNING: Still in development, use with caution! "
   ]
  },
  {
   "cell_type": "code",
   "execution_count": null,
   "id": "d8e16927-a540-4be2-8c1c-110707c9a31a",
   "metadata": {},
   "outputs": [],
   "source": [
    "plt.imshow[df.iloc[0].caiman.get_projection['mean']] #look at different projections, you can change out the 'mean' to look at different projections"
   ]
  },
  {
   "cell_type": "markdown",
   "id": "3caaefde-efd7-40f9-a7df-8309a2c7c471",
   "metadata": {},
   "source": [
    "## Load outputs\n",
    "CNMF pandas extensions API: https://mesmerize-core.readthedocs.io/en/latest/api/cnmf.html"
   ]
  },
  {
   "cell_type": "code",
   "execution_count": null,
   "id": "c2b9292c-5fd7-4a67-9348-2cf178cadfb9",
   "metadata": {},
   "outputs": [],
   "source": [
    "index = 1   # Change this to plot the outputs for different batch items\n",
    "\n",
    "cnmf_movie = df.iloc[index].caiman.get_input_movie()  # get the motion corrected input movie as a memmap\n",
    "contours, coms = df.iloc[index].cnmf.get_contours(\"all\", swap_dim=False) # get the contours of the spatial components\n",
    "#can pass many things here, read documentation.\n",
    "\n",
    "temporal = df.iloc[index].cnmf.get_temporal(\"all\")  # and temporal components\n",
    "\n",
    "ixs_good = df.iloc[index].cnmf.get_good_components()   #for plotting these in different colors \n",
    "ixs_bad = df.iloc[index].cnmf.get_bad_components()"
   ]
  },
  {
   "cell_type": "markdown",
   "id": "fd261825-6dd8-49fc-a45b-0c876367ef6c",
   "metadata": {},
   "source": [
    "## Visualization"
   ]
  },
  {
   "cell_type": "code",
   "execution_count": null,
   "id": "ca923c76-f16b-4273-aece-abccef7d5df0",
   "metadata": {},
   "outputs": [],
   "source": [
    "from fastplotlib.graphics.line_slider import LineSlider # LineSlider is very new and experimental\n",
    "\n",
    "# for the image data and contours\n",
    "iw_cnmf = ImageWidget(cnmf_movie, vmin_vmax_sliders=True, cmap=\"gnuplot2\")\n",
    "\n",
    "# add good contours to the plot within the widget\n",
    "contours_graphic = iw_cnmf.plot.add_line_collection(contours, colors=\"cyan\", name=\"contours\")\n",
    "contours_graphic[ixs_good].colors = \"cyan\"\n",
    "contours_graphic[ixs_bad].colors = \"magenta\"\n",
    "\n",
    "\n",
    "# temporal plot\n",
    "plot_temporal = Plot()\n",
    "\n",
    "temporal_graphic = plot_temporal.add_line_collection(temporal, colors=\"cyan\", name=\"temporal\")\n",
    "temporal_graphic[ixs_good].colors = \"cyan\"\n",
    "temporal_graphic[ixs_bad].colors = \"magenta\"\n",
    "\n",
    "# a vertical line that is syncronized to the image widget \"t\" (timepoint) slider\n",
    "_ls = LineSlider(x_pos=0, bounds=(temporal.min(), temporal.max()), slider=iw_cnmf.sliders[\"t\"])\n",
    "plot_temporal.add_graphic(_ls)\n",
    "\n",
    "# stack them\n",
    "VBox([plot_temporal.show(), iw_cnmf.show()])\n",
    "\n",
    "# Auto-scale temporal plot, you can only do this after calling show()\n",
    "plot_temporal.auto_scale()\n",
    "plot_temporal.camera.scale.x = 0.85\n",
    "\n"
   ]
  },
  {
   "cell_type": "code",
   "execution_count": null,
   "id": "ec081a14-5fcc-45ad-9e17-480f2c70742d",
   "metadata": {},
   "outputs": [],
   "source": [
    "#Define function\n",
    "def euclidean(source, target, event, new_data):   # I am confused by this\n",
    "    \"\"\"maps click events to contour\"\"\"\n",
    "    # calculate coms of line collection\n",
    "    indices = np.array(event.pick_info[\"index\"])\n",
    "    \n",
    "    coms = list()\n",
    "\n",
    "    for contour in target.graphics:\n",
    "        coors = contour.data()[~np.isnan(contour.data()).any(axis=1)]\n",
    "        com = coors.mean(axis=0)\n",
    "        coms.append(com)\n",
    "\n",
    "    # euclidean distance to find closest index of com \n",
    "    indices = np.append(indices, [0])\n",
    "    \n",
    "    ix = int(np.linalg.norm((coms - indices), axis=1).argsort()[0])\n",
    "    \n",
    "    target._set_feature(feature=\"colors\", new_data=new_data, indices=ix)\n",
    "    \n",
    "    return None\n",
    "\n",
    "# so we can view them one by one, first hide all of them\n",
    "temporal_graphic[:].present = False\n",
    "\n",
    "image_graphic = iw_cnmf.plot[\"image\"]\n",
    "\n",
    "# link image to contours\n",
    "image_graphic.link(\n",
    "    \"click\",\n",
    "    target=contours_graphic,\n",
    "    feature=\"colors\", \n",
    "    new_data=\"w\", \n",
    "    callback=euclidean\n",
    ")\n",
    "\n",
    "# link contour color changes (which are triggered by the click events as defined above) to everything else\n",
    "\n",
    "# thickness of contour\n",
    "contours_graphic.link(\"colors\", target=contours_graphic, feature=\"thickness\", new_data=5)\n",
    "\n",
    "# toggle temporal component when contour changes color\n",
    "contours_graphic.link(\"colors\", target=temporal_graphic, feature=\"present\", new_data=True)\n",
    "# autoscale temporal plot to the current temporal component\n",
    "temporal_graphic[:].present.add_event_handler(plot_temporal.auto_scale)"
   ]
  },
  {
   "cell_type": "code",
   "execution_count": null,
   "id": "c479d50e-2d25-4223-8833-558dc00777f7",
   "metadata": {},
   "outputs": [],
   "source": [
    "#close canvases for slow GPU\n",
    "\n",
    "plot_temporal.canvas.close()\n",
    "iw_cnmf.plot.canvas.close()"
   ]
  },
  {
   "cell_type": "markdown",
   "id": "6837ac77-6565-4c70-bd49-ef3c12669786",
   "metadata": {},
   "source": [
    "## View the reconstructed movie, residuals, and reconstructed background\n",
    "We can get each of these as a mesmerize LazyArray which allows fast visualization of larger-than-RAM arrays that can be computed on the fly."
   ]
  },
  {
   "cell_type": "code",
   "execution_count": null,
   "id": "2ed548c4-7fc1-4171-a9ff-6da4672e7bfb",
   "metadata": {},
   "outputs": [],
   "source": [
    "# reconstructed movie, A * C\n",
    "rcm = df.iloc[index].cnmf.get_rcm()\n",
    "rcm\n",
    "\n",
    "#rcm.shape   #behaves like numpy array, easy to work with\n",
    "# rcm.nbytes_gb  #show the size of the array\n",
    "#rcm.max #Some lazy arrays contain pre-computed min and max for the array, and other useful properties\n",
    "\n",
    "# visualize \n",
    "gp = GridPlot((2, 2), controllers=\"sync\")    #make a 2 by 2 array of images\n",
    "\n",
    "for sp, img in zip(gp, [rcm.max_image, rcm.min_image, rcm.mean_image, rcm.std_image]):\n",
    "    sp.add_image(img)\n",
    "    \n",
    "gp.show()"
   ]
  },
  {
   "cell_type": "code",
   "execution_count": null,
   "id": "d2449fda-14c1-477d-88b0-acd942d324f3",
   "metadata": {},
   "outputs": [],
   "source": [
    "gp.canvas.close()"
   ]
  },
  {
   "cell_type": "markdown",
   "id": "854756a0-3ce2-4639-b68f-754dd6821398",
   "metadata": {},
   "source": [
    "# Visualize RCM, RCB and Residuals"
   ]
  },
  {
   "cell_type": "code",
   "execution_count": null,
   "id": "42c9ac40-de0d-46c9-a729-70d0eee87ee1",
   "metadata": {},
   "outputs": [],
   "source": [
    "rcb = df.iloc[index].cnmf.get_rcb()\n",
    "residuals = df.iloc[index].cnmf.get_residuals()\n",
    "\n",
    "iw_cnmf_grid = ImageWidget(\n",
    "    data=[cnmf_movie, rcm, rcb, residuals],\n",
    "    vmin_vmax_sliders=True,\n",
    "    cmap=\"gnuplot2\",\n",
    "    names=[\"movie\", \"A * C\", \"b * f\", \"residuals\"]\n",
    ")\n",
    "\n",
    "for subplot in iw_cnmf_grid.plot:\n",
    "    _contours = subplot.add_line_collection(contours, thickness=1.0, name=\"contours\")\n",
    "    _contours[ixs_good].colors = \"cyan\"\n",
    "    _contours[ixs_bad].colors = \"magenta\"\n",
    "\n",
    "iw_cnmf_grid.show()\n",
    "\n",
    "'''\n",
    "##options for looking at the data:##\n",
    "\n",
    "# temporarily hide bad components\n",
    "for subplot in iw_cnmf_grid.plot:\n",
    "    subplot[\"contours\"][ixs_bad].present = False\n",
    "    \n",
    "# hide good components\n",
    "for subplot in iw_cnmf_grid.plot:\n",
    "    subplot[\"contours\"][ixs_good].present = False\n",
    "\n",
    "# make everything un-hidden, indexing [:] means \"everything\"\n",
    "for subplot in iw_cnmf_grid.plot:\n",
    "    subplot[\"contours\"][:].present = True\n",
    "\n",
    "'''"
   ]
  },
  {
   "cell_type": "code",
   "execution_count": null,
   "id": "11a5c1f8-2bc0-451c-8bee-3357a37e6625",
   "metadata": {},
   "outputs": [],
   "source": [
    "iw_cnmf_grid.plot.canvas.close()   # close the canvas to save GPU"
   ]
  },
  {
   "cell_type": "markdown",
   "id": "ae4d825e-33d1-4a70-ac7d-58fe788646d2",
   "metadata": {},
   "source": [
    "## Visualize movie, rcm, and stack of temporal components\n",
    "This example shows only good components, but as shown before you can also compare between good and bad components if you want. You could also use a GridPlot or ImageWidget to view the contours on top of the residuals and reconstructed background to evaluate if CNMF captured everything."
   ]
  },
  {
   "cell_type": "code",
   "execution_count": null,
   "id": "1c043485-e47b-4033-8264-75a2a0118be6",
   "metadata": {},
   "outputs": [],
   "source": [
    "# 1 row, 3 columns, sync the first 2 subplots plots\n",
    "cnmf_grid_more = GridPlot((1, 3), controllers=[[0, 0, 1]], names=[[\"movie\", \"rcm\", \"temporal\"]])\n",
    "\n",
    "# movie and rcm, rcm is a lazy array and behaves similar to numpy arrays\n",
    "movie_graphic = cnmf_grid_more[\"movie\"].add_image(cnmf_movie[0], cmap=\"gnuplot2\")\n",
    "rcm_graphic = cnmf_grid_more[\"rcm\"].add_image(rcm[0], cmap=\"gnuplot2\")\n",
    "\n",
    "# contours for good components\n",
    "contours_good, coms = df.iloc[index].cnmf.get_contours(\"good\", swap_dim=False)\n",
    "\n",
    "# random colors for contours and temporal components\n",
    "# make an RGBA array for each color\n",
    "rand_colors = np.random.rand(len(contours_good), 4)  # [n_contours, RGBA]\n",
    "rand_colors[:, -1] = 1 # set alpha = 1\n",
    "\n",
    "# get temporal of only good components\n",
    "temporal_good = df.iloc[index].cnmf.get_temporal(\"good\")\n",
    "\n",
    "# add contours to both movie and rcm subplots\n",
    "contours_movie = cnmf_grid_more[\"movie\"].add_line_collection(contours_good, colors=rand_colors)\n",
    "contours_rcm = cnmf_grid_more[\"rcm\"].add_line_collection(contours_good, colors=rand_colors)\n",
    "\n",
    "# line stack of temporal components\n",
    "temporal_stack = cnmf_grid_more[\"temporal\"].add_line_stack(temporal_good, colors=rand_colors, thickness=3.0, separate=15)\n",
    "\n",
    "# plot single temporal, just like before\n",
    "plot_temporal_single = Plot()\n",
    "temporal_graphic = plot_temporal_single.add_line_collection(temporal_good, colors=rand_colors)\n",
    "\n",
    "# since this is a GridPlot and not an ImageWidget we need to define sliders\n",
    "slider = IntSlider(min=0, max=cnmf_movie.shape[0] - 1, value=0, step=1)\n",
    "\n",
    "# vertical line sliders\n",
    "_ls = LineSlider(x_pos=0, bounds=(temporal.min(), temporal.max()), slider=slider)\n",
    "_ls2 = LineSlider(x_pos=0, bounds=(temporal.min(), temporal.max() + temporal_stack.graphics[-1].position.y), slider=slider)\n",
    "plot_temporal_single.add_graphic(_ls)\n",
    "cnmf_grid_more[\"temporal\"].add_graphic(_ls2)\n",
    "\n",
    "# function to update each frame\n",
    "def update_frame(change):\n",
    "    ix = change[\"new\"]\n",
    "    movie_graphic.data = cnmf_movie[ix]\n",
    "    rcm_graphic.data = rcm[ix]\n",
    "    \n",
    "slider.observe(update_frame, \"value\")\n",
    "\n",
    "@plot_temporal_single.renderer.add_event_handler(\"resize\")\n",
    "def update_slider_width(*args):\n",
    "    width, h = plot_temporal_single.renderer.logical_size\n",
    "    slider.layout = Layout(width=f\"{width}px\")\n",
    "    \n",
    "VBox([plot_temporal_single.show(), cnmf_grid_more.show(), slider])"
   ]
  },
  {
   "cell_type": "markdown",
   "id": "2b672e78-77d0-4754-820a-2d61796e53c9",
   "metadata": {},
   "source": [
    "#### If you need to autoscale"
   ]
  },
  {
   "cell_type": "code",
   "execution_count": null,
   "id": "2d2c4bfd-9be0-4e26-845e-730675f2d67d",
   "metadata": {},
   "outputs": [],
   "source": [
    "plot_temporal_single.auto_scale()\n",
    "plot_temporal_single.camera.scale.x = 0.85\n",
    "cnmf_grid_more[\"temporal\"].auto_scale()"
   ]
  },
  {
   "cell_type": "markdown",
   "id": "45575093-bd81-47d7-b2f2-2355da47d722",
   "metadata": {},
   "source": [
    "### If you would like to make it interactive:"
   ]
  },
  {
   "cell_type": "code",
   "execution_count": null,
   "id": "b2a99715-11c0-42a6-b818-9deecf7eb5e4",
   "metadata": {},
   "outputs": [],
   "source": [
    "# so we can view them one by one, first hide all of them\n",
    "temporal_graphic[:].present = False\n",
    "\n",
    "# link image to contours\n",
    "movie_graphic.link(\n",
    "    \"click\",\n",
    "    target=contours_movie,\n",
    "    feature=\"colors\", \n",
    "    new_data=\"w\", \n",
    "    callback=euclidean  # we cam re-use it from before\n",
    ")\n",
    "\n",
    "# link image to contours\n",
    "rcm_graphic.link(\n",
    "    \"click\",\n",
    "    target=contours_rcm,\n",
    "    feature=\"colors\", \n",
    "    new_data=\"w\", \n",
    "    callback=euclidean  # we cam re-use it from before\n",
    ")\n",
    "\n",
    "# contours colors -> contour thickness\n",
    "contours_movie.link(\"colors\", target=contours_movie, feature=\"thickness\", new_data=5)\n",
    "contours_rcm.link(\"colors\", target=contours_rcm, feature=\"thickness\", new_data=5)\n",
    "\n",
    "# contours_movie <-> contours_rcm\n",
    "contours_rcm.link(\"colors\", target=contours_movie, feature=\"colors\", new_data=\"w\", bidirectional=True)\n",
    "\n",
    "# temporal stack events\n",
    "temporal_stack.link(\"click\", target=temporal_stack, feature=\"colors\", new_data=\"w\")\n",
    "temporal_stack.link(\"colors\", target=temporal_stack, feature=\"thickness\", new_data=4)\n",
    "\n",
    "# contours <-> temporal stack\n",
    "contours_movie.link(\"colors\", target=temporal_stack, feature=\"colors\", new_data=\"w\", bidirectional=True)\n",
    "\n",
    "# temporal stack -> temporal single\n",
    "temporal_stack.link(\"colors\", target=temporal_graphic, feature=\"present\", new_data=True)\n",
    "\n",
    "# autoscale temporal plot to the current temporal component\n",
    "temporal_graphic[:].present.add_event_handler(plot_temporal_single.auto_scale)"
   ]
  },
  {
   "cell_type": "code",
   "execution_count": null,
   "id": "65eb2f6c-7856-4671-8053-f41eade6c416",
   "metadata": {},
   "outputs": [],
   "source": [
    "#Close the canvases\n",
    "\n",
    "plot_temporal_single.canvas.close()\n",
    "cnmf_grid_more.canvas.close()"
   ]
  }
 ],
 "metadata": {
  "kernelspec": {
   "display_name": "Python 3 (ipykernel)",
   "language": "python",
   "name": "python3"
  },
  "language_info": {
   "codemirror_mode": {
    "name": "ipython",
    "version": 3
   },
   "file_extension": ".py",
   "mimetype": "text/x-python",
   "name": "python",
   "nbconvert_exporter": "python",
   "pygments_lexer": "ipython3",
   "version": "3.9.13"
  }
 },
 "nbformat": 4,
 "nbformat_minor": 5
}
